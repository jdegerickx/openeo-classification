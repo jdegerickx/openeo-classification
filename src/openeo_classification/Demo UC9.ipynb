{
 "cells": [
  {
   "cell_type": "code",
   "execution_count": 1,
   "id": "73bf537b",
   "metadata": {},
   "outputs": [],
   "source": [
    "import openeo\n",
    "import geopandas as gpd\n",
    "import pandas as pd\n",
    "from landuse_classification import *\n",
    "from datetime import date\n",
    "import ipywidgets as widgets\n",
    "import datetime\n",
    "import json"
   ]
  },
  {
   "cell_type": "code",
   "execution_count": 2,
   "id": "1513ef3c",
   "metadata": {},
   "outputs": [],
   "source": [
    "con = openeo.connect(\"https://openeo-dev.vito.be\")"
   ]
  },
  {
   "cell_type": "markdown",
   "id": "46deb82a",
   "metadata": {},
   "source": [
    "#### Target data \n",
    "LUCAS, 2018 (land use cover)\n",
    "\n",
    "#### Input data\n",
    "From S2: calculation of 7 indices (NDVI, NDMI, NDGI, ANIR, NDRE1, NDRE2, NDRE5) and keeping 2 bands (B06, B12)\n",
    "From S1: VV, VH and VV/VH\n",
    "For all of these, 10 features: p25, p50, p75, sd and 6 t-steps, with flexible range\n",
    "\n",
    "#### Model\n",
    "Random Forest, trained using custom hyperparameter, 70/30 split"
   ]
  },
  {
   "cell_type": "code",
   "execution_count": 3,
   "id": "1ae23855",
   "metadata": {},
   "outputs": [
    {
     "data": {
      "application/vnd.jupyter.widget-view+json": {
       "model_id": "4bdc772fb8a64fdbae8c5c6781f1b2d2",
       "version_major": 2,
       "version_minor": 0
      },
      "text/plain": [
       "Box(children=(Label(value='Train / test split:'), FloatSlider(value=0.3, max=1.0, step=0.05)))"
      ]
     },
     "metadata": {},
     "output_type": "display_data"
    },
    {
     "data": {
      "application/vnd.jupyter.widget-view+json": {
       "model_id": "52145eee27f34c1d84d2c237f43af89d",
       "version_major": 2,
       "version_minor": 0
      },
      "text/plain": [
       "Dropdown(description='Model:', disabled=True, options=('Random Forest',), value='Random Forest')"
      ]
     },
     "metadata": {},
     "output_type": "display_data"
    },
    {
     "data": {
      "application/vnd.jupyter.widget-view+json": {
       "model_id": "077eb8532f02426e88c1e6b120abcc3c",
       "version_major": 2,
       "version_minor": 0
      },
      "text/plain": [
       "Box(children=(Label(value='Hyperparameters RF model:'), IntText(value=250, description='Nr trees:'), IntText(v…"
      ]
     },
     "metadata": {},
     "output_type": "display_data"
    },
    {
     "data": {
      "application/vnd.jupyter.widget-view+json": {
       "model_id": "08c4e1cf2ce044bda266b0c294e3f866",
       "version_major": 2,
       "version_minor": 0
      },
      "text/plain": [
       "Box(children=(Label(value='S1 / S2 fusion:'), RadioButtons(options=('Feature fusion', 'Decision fusion'), valu…"
      ]
     },
     "metadata": {},
     "output_type": "display_data"
    },
    {
     "data": {
      "application/vnd.jupyter.widget-view+json": {
       "model_id": "b51a7059b54b41a7a1155d1929ea8f77",
       "version_major": 2,
       "version_minor": 0
      },
      "text/plain": [
       "FileUpload(value={}, accept='.geojson,.shp', description='Upload AOI', layout=Layout(width='20em'))"
      ]
     },
     "metadata": {},
     "output_type": "display_data"
    },
    {
     "data": {
      "application/vnd.jupyter.widget-view+json": {
       "model_id": "b979f87563394d2480793759c4b124c9",
       "version_major": 2,
       "version_minor": 0
      },
      "text/plain": [
       "FileUpload(value={}, accept='.geojson,.shp', description='Upload stratification', layout=Layout(width='20em'))"
      ]
     },
     "metadata": {},
     "output_type": "display_data"
    },
    {
     "data": {
      "application/vnd.jupyter.widget-view+json": {
       "model_id": "2743695ee6874a5db74e417464f498a7",
       "version_major": 2,
       "version_minor": 0
      },
      "text/plain": [
       "Box(children=(Label(value='Include mixed pixels:'), RadioButtons(options=('Yes', 'No'), value='Yes')))"
      ]
     },
     "metadata": {},
     "output_type": "display_data"
    },
    {
     "data": {
      "application/vnd.jupyter.widget-view+json": {
       "model_id": "c38922a3e8704e7bad5046024d8b6285",
       "version_major": 2,
       "version_minor": 0
      },
      "text/plain": [
       "DatePicker(value=datetime.date(2018, 1, 1), description='Start date')"
      ]
     },
     "metadata": {},
     "output_type": "display_data"
    },
    {
     "data": {
      "application/vnd.jupyter.widget-view+json": {
       "model_id": "557beba1994d436ea7d6049c9b6d8265",
       "version_major": 2,
       "version_minor": 0
      },
      "text/plain": [
       "DatePicker(value=datetime.date(2018, 12, 31), description='End date')"
      ]
     },
     "metadata": {},
     "output_type": "display_data"
    },
    {
     "data": {
      "application/vnd.jupyter.widget-view+json": {
       "model_id": "ce9871a922454bf3b8107cea1a316c9c",
       "version_major": 2,
       "version_minor": 0
      },
      "text/plain": [
       "Box(children=(Label(value='Select the amount of target classes:'), IntSlider(value=10, max=37, min=2)))"
      ]
     },
     "metadata": {},
     "output_type": "display_data"
    },
    {
     "data": {
      "application/vnd.jupyter.widget-view+json": {
       "model_id": "2f35c20c012146ed8e16e1b3fa56b74c",
       "version_major": 2,
       "version_minor": 0
      },
      "text/plain": [
       "Box(children=(Label(value='Select the amount of times you want to point sample each reference polygon:'), IntS…"
      ]
     },
     "metadata": {},
     "output_type": "display_data"
    }
   ],
   "source": [
    "train_test_split, algorithm, nrtrees, mtry, feature_raster, aoi, strat_layer, include_mixed_pixels, start_date, end_date, nr_targets, nr_spp = getStartingWidgets()"
   ]
  },
  {
   "cell_type": "code",
   "execution_count": 4,
   "id": "811e7fc1",
   "metadata": {},
   "outputs": [
    {
     "data": {
      "application/vnd.jupyter.widget-view+json": {
       "model_id": "dd08dc0904bf41609607d426a6420780",
       "version_major": 2,
       "version_minor": 0
      },
      "text/plain": [
       "SelectMultiple(description='Target class', options=('A00: Artificial land', 'A10: Roofed built-up areas', 'A20…"
      ]
     },
     "metadata": {},
     "output_type": "display_data"
    },
    {
     "data": {
      "application/vnd.jupyter.widget-view+json": {
       "model_id": "d16441f5a49342989825e120fa98d452",
       "version_major": 2,
       "version_minor": 0
      },
      "text/plain": [
       "SelectMultiple(description='Target class', options=('A00: Artificial land', 'A10: Roofed built-up areas', 'A20…"
      ]
     },
     "metadata": {},
     "output_type": "display_data"
    }
   ],
   "source": [
    "target_classes = getTargetClasses(nr_targets)"
   ]
  },
  {
   "cell_type": "code",
   "execution_count": 5,
   "id": "63085ff6",
   "metadata": {},
   "outputs": [
    {
     "data": {
      "text/plain": [
       "('B00: Cropland',\n",
       " 'B10: Cereals',\n",
       " 'B20: Root crops',\n",
       " 'B30: Non-permanent industrial crops')"
      ]
     },
     "execution_count": 5,
     "metadata": {},
     "output_type": "execute_result"
    }
   ],
   "source": [
    "target_classes[\"target1\"].value"
   ]
  },
  {
   "cell_type": "code",
   "execution_count": 6,
   "id": "9def8995",
   "metadata": {},
   "outputs": [],
   "source": [
    "mask = gpd.GeoDataFrame.from_features(json.loads(list(aoi.value.values())[0][\"content\"])).set_crs('epsg:4326')"
   ]
  },
  {
   "cell_type": "code",
   "execution_count": 7,
   "id": "c0eecdb7",
   "metadata": {
    "scrolled": false
   },
   "outputs": [],
   "source": [
    "data = gpd.read_file(\"https://artifactory.vgt.vito.be/auxdata-public/openeo/LUCAS_2018_Copernicus.gpkg\",mask=mask)\n",
    "\n",
    "if data.empty:\n",
    "    raise ValueError(\"Your masked area is located outside of Europe or so small that no training data can be found within it\")"
   ]
  },
  {
   "cell_type": "code",
   "execution_count": 32,
   "id": "79ced4f0",
   "metadata": {},
   "outputs": [
    {
     "name": "stderr",
     "output_type": "stream",
     "text": [
      "<ipython-input-32-9a2bf50a772b>:3: DtypeWarning: Columns (43) have mixed types. Specify dtype option on import or set low_memory=False.\n",
      "  lucas_attrs = pd.read_csv(\"lucas/LUCAS_2018_Copernicus_attributes.csv\")\n"
     ]
    }
   ],
   "source": [
    "# lucas_data = gpd.read_file(\"lucas/LUCAS_2018_Copernicus_polygons.shp\")\n",
    "# lucas_data[\"POINT_ID\"] = lucas_data[\"POINT_ID\"].astype(\"int64\")\n",
    "# lucas_attrs = pd.read_csv(\"lucas/LUCAS_2018_Copernicus_attributes.csv\")\n",
    "# data = lucas_data.merge(lucas_attrs, on='POINT_ID')\n",
    "# data.to_file('lucas/LUCAS_2018_Copernicus.gpkg', driver='GPKG')"
   ]
  },
  {
   "cell_type": "code",
   "execution_count": 8,
   "id": "7e22f72c",
   "metadata": {},
   "outputs": [],
   "source": [
    "lucas_points = pd.concat([data]+[data.copy()]*(nr_spp.value-1), ignore_index=True)\n",
    "lucas_points[\"geometry\"] = lucas_points[\"geometry\"].apply(extract_point_from_polygon)"
   ]
  },
  {
   "cell_type": "code",
   "execution_count": 9,
   "id": "2a5efbed",
   "metadata": {},
   "outputs": [
    {
     "name": "stderr",
     "output_type": "stream",
     "text": [
      "c:\\users\\driesseb\\.conda\\envs\\openeo\\lib\\site-packages\\geopandas\\geodataframe.py:1351: SettingWithCopyWarning: \n",
      "A value is trying to be set on a copy of a slice from a DataFrame.\n",
      "Try using .loc[row_indexer,col_indexer] = value instead\n",
      "\n",
      "See the caveats in the documentation: https://pandas.pydata.org/pandas-docs/stable/user_guide/indexing.html#returning-a-view-versus-a-copy\n",
      "  super().__setitem__(key, value)\n"
     ]
    }
   ],
   "source": [
    "y = lucas_points[[\"LC1\", \"geometry\"]]\n",
    "y[\"LC1\"] = y[\"LC1\"].apply(lambda x: x[:2]+\"0\")"
   ]
  },
  {
   "cell_type": "code",
   "execution_count": 10,
   "id": "97f2d75d",
   "metadata": {},
   "outputs": [],
   "source": [
    "if strat_layer is None:\n",
    "    strat_layer = aoi"
   ]
  },
  {
   "cell_type": "code",
   "execution_count": 15,
   "id": "e3a4d9ff",
   "metadata": {
    "scrolled": false
   },
   "outputs": [
    {
     "name": "stdout",
     "output_type": "stream",
     "text": [
      "Authenticated using refresh token.\n",
      "Authenticated using refresh token.\n"
     ]
    },
    {
     "name": "stderr",
     "output_type": "stream",
     "text": [
      "<ipython-input-15-da665758bbac>:7: UserWarning: Geometry is in a geographic CRS. Results from 'buffer' are likely incorrect. Use 'GeoSeries.to_crs()' to re-project geometries to a projected CRS before this operation.\n",
      "\n",
      "  X = features.aggregate_spatial(json.loads(y.buffer(0.0000001).to_json()), reducer=\"mean\")\n"
     ]
    }
   ],
   "source": [
    "## TODO: @Bart load_lc_features spatial_extents toevoegen voor data reductie?\n",
    "## TODO: @Bart: Loop hier nog over verschillende strata zodra alles werkt, dus:\n",
    "# for stratum in strat_layer.iterfeatures():\n",
    "# final_training_data = gpd.clip(data, gpd.GeoDataFrame(stratum))\n",
    "features, feature_list = load_lc_features(feature_raster, y, start_date.value, end_date.value)\n",
    "\n",
    "X = features.aggregate_spatial(json.loads(y.buffer(0.0000001).to_json()), reducer=\"mean\")\n",
    "    \n",
    "ml_model = X.fit_class_random_forest(target=y, training=train_test_split.value, num_trees=nrtrees, mtry=mtry)\n",
    "# ml_model = ml_model.save_ml_model().start_and_wait().get_result()\n",
    "    "
   ]
  },
  {
   "cell_type": "code",
   "execution_count": null,
   "id": "af2f94bc",
   "metadata": {},
   "outputs": [],
   "source": [
    "## DIT DEEL IS NOG NIET GOED UITGEDACHT!\n",
    "## Final inference: 2-3 tiles, 2-3 different scenarios\n",
    "for stratum in strat_layer.iterfeatures():\n",
    "    con.load_ml_model('batch_job_id')\n",
    "    features, feature_list = load_features(feature_raster, stratum, start_date, end_date)\n",
    "\n",
    "    def predict_rf(x: ProcessBuilder):\n",
    "        ## TODO: bedenken hoe dit eruit gaat zien\n",
    "        return x.predict_random_forest(features)\n",
    "\n",
    "    y_pred = datacube.reduce_dimension(dimension=\"bands\", process=predict_rf)\n",
    "\n",
    "## Daarna verschillende predicties door verschillende strata weer terug mergen in 1 beeld ?\n",
    "    \n",
    "from sklearn.metrics import precision_recall_fscore_support\n",
    "prec, rec, fscore, sup = precision_recall_fscore_support(y_test,y_pred)"
   ]
  },
  {
   "cell_type": "code",
   "execution_count": null,
   "id": "dc5e0b19",
   "metadata": {},
   "outputs": [],
   "source": [
    "## Nice to have: custom rules toevoegen\n",
    "#     ## Applying custom rules to the classification\n",
    "#     def rule_glaciers(x: ProcessBuilder):\n",
    "#         if x.is_nodata():\n",
    "#             return array_create(data=[65534]*120)\n",
    "#         return x    \n",
    "#     datacube.apply_dimension(dimension=\"t\", process=rule_glaciers)"
   ]
  }
 ],
 "metadata": {
  "kernelspec": {
   "display_name": "Python 3",
   "language": "python",
   "name": "python3"
  },
  "language_info": {
   "codemirror_mode": {
    "name": "ipython",
    "version": 3
   },
   "file_extension": ".py",
   "mimetype": "text/x-python",
   "name": "python",
   "nbconvert_exporter": "python",
   "pygments_lexer": "ipython3",
   "version": "3.9.7"
  }
 },
 "nbformat": 4,
 "nbformat_minor": 5
}
